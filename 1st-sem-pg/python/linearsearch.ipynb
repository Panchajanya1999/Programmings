{
  "nbformat": 4,
  "nbformat_minor": 0,
  "metadata": {
    "colab": {
      "name": "LinearSearch.ipynb",
      "provenance": [],
      "collapsed_sections": [],
      "authorship_tag": "ABX9TyOpDTf6vMzc17NkP+osMyTi",
      "include_colab_link": true
    },
    "kernelspec": {
      "name": "python3",
      "display_name": "Python 3"
    },
    "language_info": {
      "name": "python"
    }
  },
  "cells": [
    {
      "cell_type": "markdown",
      "metadata": {
        "id": "view-in-github",
        "colab_type": "text"
      },
      "source": [
        "<a href=\"https://colab.research.google.com/gist/Panchajanya1999/35f179f098c6ee5145e40d81e71385f8/linearsearch.ipynb\" target=\"_parent\"><img src=\"https://colab.research.google.com/assets/colab-badge.svg\" alt=\"Open In Colab\"/></a>"
      ]
    },
    {
      "cell_type": "code",
      "execution_count": null,
      "metadata": {
        "id": "BDHYmjeiC3CX"
      },
      "outputs": [],
      "source": [
        "def LinearSearch ( list, item) :\n",
        "  index = 0\n",
        "  found = False\n",
        "  # Match the value with each data element\n",
        "  while index < len(list) and found is False :\n",
        "    if list[index] is item :\n",
        "      found = True\n",
        "    else :\n",
        "      index = index + 1\n",
        "  \n",
        "  return found"
      ]
    },
    {
      "cell_type": "code",
      "source": [
        "list = [12, 33, 11, 99, 22, 55, 90]\n",
        "\n",
        "# find a value from the list\n",
        "LinearSearch(list, 50)"
      ],
      "metadata": {
        "colab": {
          "base_uri": "https://localhost:8080/"
        },
        "id": "iHYTDJFRMCg0",
        "outputId": "0160b3aa-9d06-4385-9eeb-b50298ab8b18"
      },
      "execution_count": null,
      "outputs": [
        {
          "output_type": "execute_result",
          "data": {
            "text/plain": [
              "False"
            ]
          },
          "metadata": {},
          "execution_count": 15
        }
      ]
    }
  ]
}
