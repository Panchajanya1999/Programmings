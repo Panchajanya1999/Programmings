{
  "nbformat": 4,
  "nbformat_minor": 0,
  "metadata": {
    "colab": {
      "name": "bubblesort.ipynb",
      "provenance": [],
      "collapsed_sections": [],
      "authorship_tag": "ABX9TyMavtM3cw/tq83TfD87LwfF",
      "include_colab_link": true
    },
    "kernelspec": {
      "name": "python3",
      "display_name": "Python 3"
    },
    "language_info": {
      "name": "python"
    }
  },
  "cells": [
    {
      "cell_type": "markdown",
      "metadata": {
        "id": "view-in-github",
        "colab_type": "text"
      },
      "source": [
        "<a href=\"https://colab.research.google.com/github/Panchajanya1999/Programmings/blob/1styear-pg/1st-sem-pg/python/bubblesort.ipynb\" target=\"_parent\"><img src=\"https://colab.research.google.com/assets/colab-badge.svg\" alt=\"Open In Colab\"/></a>"
      ]
    },
    {
      "cell_type": "code",
      "execution_count": 20,
      "metadata": {
        "id": "9TfHAo5g8eQd"
      },
      "outputs": [],
      "source": [
        "# Function bublesort to implement bubble sort\n",
        "\n",
        "def bubblesort (arr) :\n",
        "  n = len(arr)\n",
        "\n",
        "  # Traverse through array elements \n",
        "  for i in range(n - 1 ) :\n",
        "    swapped = False # bool to hold true if a swapping is done\n",
        "    for j in range (n - 1 - i) :\n",
        "      if arr[j] > arr[j+1] :\n",
        "        swapped = True\n",
        "        arr[j], arr[j+1] = arr[j+1], arr[j] # Swap \n",
        "    \n",
        "    # The array is already sorted\n",
        "    if not swapped :\n",
        "      break\n"
      ]
    },
    {
      "cell_type": "code",
      "source": [
        "dataset = [ 10, 9, 8, 7, 6, 5, 4, 3, 2, 1  ]\n",
        "bubblesort(dataset)\n",
        "print(dataset)"
      ],
      "metadata": {
        "colab": {
          "base_uri": "https://localhost:8080/"
        },
        "id": "zTzfKdogUTA7",
        "outputId": "7a4111d9-8c3c-4f67-f780-99d95d7dc794"
      },
      "execution_count": 21,
      "outputs": [
        {
          "output_type": "stream",
          "name": "stdout",
          "text": [
            "[1, 2, 3, 4, 5, 6, 7, 8, 9, 10]\n"
          ]
        }
      ]
    }
  ]
}