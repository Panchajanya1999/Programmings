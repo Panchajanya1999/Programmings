{
  "nbformat": 4,
  "nbformat_minor": 0,
  "metadata": {
    "colab": {
      "name": "pigeonhole.ipynb",
      "provenance": [],
      "authorship_tag": "ABX9TyN6E3Cx/UohqARv19WKfJxV",
      "include_colab_link": true
    },
    "kernelspec": {
      "name": "python3",
      "display_name": "Python 3"
    },
    "language_info": {
      "name": "python"
    }
  },
  "cells": [
    {
      "cell_type": "markdown",
      "metadata": {
        "id": "view-in-github",
        "colab_type": "text"
      },
      "source": [
        "<a href=\"https://colab.research.google.com/gist/Panchajanya1999/8d6372a0a2e5f77cebe80e36b2d18d1c/pigeonhole.ipynb\" target=\"_parent\"><img src=\"https://colab.research.google.com/assets/colab-badge.svg\" alt=\"Open In Colab\"/></a>"
      ]
    },
    {
      "cell_type": "code",
      "execution_count": 11,
      "metadata": {
        "id": "m157O_3_szr1"
      },
      "outputs": [],
      "source": [
        "# PigeonHole Sort \n",
        "\n",
        "def pigeonhole_sort(array):\n",
        "  \n",
        "  # Find the minimum & maximum element of the array\n",
        "  minimum = min(array)\n",
        "  maximum = max(array)\n",
        "\n",
        "  # Size is the size of the pigeonholes to be made\n",
        "  size = maximum - minimum + 1\n",
        "\n",
        "  # Pigeonholes to be allocated\n",
        "  pigeonholes = [0] * size\n",
        "\n",
        "  # put the pigeons in the holes by taking each pigeon in buckets\n",
        "  for i in array:\n",
        "    pigeonholes[ i - minimum ] += 1\n",
        "\n",
        "  j = 0\n",
        "\n",
        "  for count in range(size):\n",
        "    while pigeonholes[count] > 0:\n",
        "      pigeonholes[count] -= 1\n",
        "      array[j] = count + minimum\n",
        "      j += 1\n"
      ]
    },
    {
      "cell_type": "code",
      "source": [
        "# runnable code hooking the driver code\n",
        "\n",
        "a = [ 10, 9, 8, 7, 6, 5, 4, 3, 2, 1]\n",
        "\n",
        "# Print the original code\n",
        "print(\"The original array was : \")\n",
        "print(a)\n",
        "\n",
        "# Sort the unsorted original array by hooking driver code\n",
        "print(\"The sorted code is :\")\n",
        "pigeonhole_sort(a)\n",
        "print(a)\n"
      ],
      "metadata": {
        "colab": {
          "base_uri": "https://localhost:8080/"
        },
        "id": "OaFUxZF6PHn4",
        "outputId": "e92568eb-afe4-42a0-aef4-501476158e6c"
      },
      "execution_count": 13,
      "outputs": [
        {
          "output_type": "stream",
          "name": "stdout",
          "text": [
            "The original array was : \n",
            "[10, 9, 8, 7, 6, 5, 4, 3, 2, 1]\n",
            "The sorted code is :\n",
            "[1, 2, 3, 4, 5, 6, 7, 8, 9, 10]\n"
          ]
        }
      ]
    }
  ]
}