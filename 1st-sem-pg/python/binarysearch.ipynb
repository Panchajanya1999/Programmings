{
  "nbformat": 4,
  "nbformat_minor": 0,
  "metadata": {
    "colab": {
      "name": "BinarySearch.ipynb",
      "provenance": [],
      "collapsed_sections": [],
      "authorship_tag": "ABX9TyNGy8sNPuHHSRj3Fg1mMi3m",
      "include_colab_link": true
    },
    "kernelspec": {
      "name": "python3",
      "display_name": "Python 3"
    },
    "language_info": {
      "name": "python"
    },
    "accelerator": "GPU"
  },
  "cells": [
    {
      "cell_type": "markdown",
      "metadata": {
        "id": "view-in-github",
        "colab_type": "text"
      },
      "source": [
        "<a href=\"https://colab.research.google.com/gist/Panchajanya1999/c1cde41649a5c1a2aa2b6a22fc7997a7/binarysearch.ipynb\" target=\"_parent\"><img src=\"https://colab.research.google.com/assets/colab-badge.svg\" alt=\"Open In Colab\"/></a>"
      ]
    },
    {
      "cell_type": "code",
      "execution_count": 6,
      "metadata": {
        "id": "tCzg1j1bc5h_"
      },
      "outputs": [],
      "source": [
        "def BinarySearch ( list, item) :\n",
        "  first = 0\n",
        "  last = len(list) - 1\n",
        "  found = False\n",
        "\n",
        "  while first <= last and not found :\n",
        "    midpoint = ( first + last ) // 2 # // indicates floor division in Python 3.x\n",
        "    if list[midpoint] == item :\n",
        "      found = True\n",
        "    else :\n",
        "      if item < list[midpoint] :\n",
        "        last = midpoint - 1 \n",
        "      else :\n",
        "        first = midpoint + 1\n",
        "  return found\n"
      ]
    },
    {
      "cell_type": "code",
      "source": [
        "list = [ 11, 12, 22, 33, 55, 90 ]\n",
        "BinarySearch( list, 33 )"
      ],
      "metadata": {
        "colab": {
          "base_uri": "https://localhost:8080/"
        },
        "id": "Nb32qfx8hPZ_",
        "outputId": "4bbd3704-7a62-430b-d5f1-c96721576abf"
      },
      "execution_count": 7,
      "outputs": [
        {
          "output_type": "execute_result",
          "data": {
            "text/plain": [
              "True"
            ]
          },
          "metadata": {},
          "execution_count": 7
        }
      ]
    },
    {
      "cell_type": "code",
      "source": [
        "BinarySearch( list, 32)"
      ],
      "metadata": {
        "colab": {
          "base_uri": "https://localhost:8080/"
        },
        "id": "syYAfWF9hja7",
        "outputId": "4f2513b8-868d-4885-ba0a-2d39f0d97328"
      },
      "execution_count": 8,
      "outputs": [
        {
          "output_type": "execute_result",
          "data": {
            "text/plain": [
              "False"
            ]
          },
          "metadata": {},
          "execution_count": 8
        }
      ]
    }
  ]
}
